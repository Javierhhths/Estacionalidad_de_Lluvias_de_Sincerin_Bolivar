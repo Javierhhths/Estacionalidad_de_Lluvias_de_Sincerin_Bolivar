{
  "nbformat": 4,
  "nbformat_minor": 0,
  "metadata": {
    "colab": {
      "name": "Estacionalidad de las lluvias en Sincerín (Arjona, Bolívar, Colombia).ipynb",
      "provenance": [],
      "authorship_tag": "ABX9TyNNY9rZxKOqjK41yUk8i5dE",
      "include_colab_link": true
    },
    "kernelspec": {
      "name": "python3",
      "display_name": "Python 3"
    },
    "language_info": {
      "name": "python"
    }
  },
  "cells": [
    {
      "cell_type": "markdown",
      "metadata": {
        "id": "view-in-github",
        "colab_type": "text"
      },
      "source": [
        "<a href=\"https://colab.research.google.com/github/Javierhhths/Estacionalidad_de_Lluvias_de_Sincerin_Bolivar/blob/main/Estacionalidad_de_las_lluvias_en_Sincer%C3%ADn_(Arjona%2C_Bol%C3%ADvar%2C_Colombia).ipynb\" target=\"_parent\"><img src=\"https://colab.research.google.com/assets/colab-badge.svg\" alt=\"Open In Colab\"/></a>"
      ]
    },
    {
      "cell_type": "code",
      "metadata": {
        "id": "G7TFw1QXycCB",
        "colab": {
          "base_uri": "https://localhost:8080/"
        },
        "outputId": "2c52da34-b816-4909-c588-8c5a6d47bdcf"
      },
      "source": [
        "#Importación de librerías\n",
        "\n",
        "import numpy as np\n",
        "from numpy import array\n",
        "import pylab\n",
        "import pandas as pd\n",
        "import pandas.util.testing as tm\n",
        "from statsmodels.formula.api import ols\n",
        "import statsmodels.api as sm\n",
        "from matplotlib import pyplot\n",
        "from matplotlib import pyplot as plt\n",
        "from matplotlib.ticker import MultipleLocator, AutoMinorLocator\n",
        "from pydrive.auth import GoogleAuth\n",
        "from pydrive.drive import GoogleDrive\n",
        "from google.colab import auth\n",
        "from oauth2client.client import GoogleCredentials\n",
        "from google.colab import files\n",
        "from pylab import *\n",
        "from math import *\n",
        "import io\n",
        "import datetime as dt\n",
        "import seaborn as sns\n",
        "from matplotlib.transforms import Affine2D\n",
        "import itertools"
      ],
      "execution_count": null,
      "outputs": [
        {
          "output_type": "stream",
          "name": "stderr",
          "text": [
            "/usr/local/lib/python3.7/dist-packages/ipykernel_launcher.py:7: FutureWarning: pandas.util.testing is deprecated. Use the functions in the public API at pandas.testing instead.\n",
            "  import sys\n"
          ]
        }
      ]
    },
    {
      "cell_type": "code",
      "metadata": {
        "colab": {
          "resources": {
            "http://localhost:8080/nbextensions/google.colab/files.js": {
              "data": "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",
              "ok": true,
              "headers": [
                [
                  "content-type",
                  "application/javascript"
                ]
              ],
              "status": 200,
              "status_text": ""
            }
          },
          "base_uri": "https://localhost:8080/",
          "height": 73
        },
        "id": "9uP3mAMhyiVS",
        "outputId": "9dce6f30-2188-46d9-fea8-24795115b02d"
      },
      "source": [
        "uploaded = files.upload()"
      ],
      "execution_count": null,
      "outputs": [
        {
          "output_type": "display_data",
          "data": {
            "text/html": [
              "\n",
              "     <input type=\"file\" id=\"files-ed77d8e2-c9a9-46f2-8749-d9d854fb93a5\" name=\"files[]\" multiple disabled\n",
              "        style=\"border:none\" />\n",
              "     <output id=\"result-ed77d8e2-c9a9-46f2-8749-d9d854fb93a5\">\n",
              "      Upload widget is only available when the cell has been executed in the\n",
              "      current browser session. Please rerun this cell to enable.\n",
              "      </output>\n",
              "      <script src=\"/nbextensions/google.colab/files.js\"></script> "
            ],
            "text/plain": [
              "<IPython.core.display.HTML object>"
            ]
          },
          "metadata": {}
        },
        {
          "output_type": "stream",
          "name": "stdout",
          "text": [
            "Saving excel.csv.csv to excel.csv.csv\n"
          ]
        }
      ]
    },
    {
      "cell_type": "code",
      "metadata": {
        "id": "ykpGaYNQyQUX",
        "colab": {
          "base_uri": "https://localhost:8080/",
          "height": 446
        },
        "outputId": "0ddef387-b8da-4dae-b002-b45f8a4f5db4"
      },
      "source": [
        "Datos = pd.read_csv(io.StringIO(uploaded['excel.csv.csv'].decode('utf-8')))\n",
        "Datos['Fecha'] = pd.to_datetime(Datos.Fecha)\n",
        "Datos.set_index('Fecha',inplace=True)\n",
        "Datosmes=Datos[\"Valor\"]\n",
        "Prec=Datosmes.resample(rule='M').sum()\n",
        "Cuenta=Datosmes.resample(rule='M').count()\n",
        "Mensual=pd.DataFrame(data=Prec)\n",
        "Mensual['Cuenta']=Cuenta\n",
        "Mensual"
      ],
      "execution_count": null,
      "outputs": [
        {
          "output_type": "execute_result",
          "data": {
            "text/html": [
              "<div>\n",
              "<style scoped>\n",
              "    .dataframe tbody tr th:only-of-type {\n",
              "        vertical-align: middle;\n",
              "    }\n",
              "\n",
              "    .dataframe tbody tr th {\n",
              "        vertical-align: top;\n",
              "    }\n",
              "\n",
              "    .dataframe thead th {\n",
              "        text-align: right;\n",
              "    }\n",
              "</style>\n",
              "<table border=\"1\" class=\"dataframe\">\n",
              "  <thead>\n",
              "    <tr style=\"text-align: right;\">\n",
              "      <th></th>\n",
              "      <th>Valor</th>\n",
              "      <th>Cuenta</th>\n",
              "    </tr>\n",
              "    <tr>\n",
              "      <th>Fecha</th>\n",
              "      <th></th>\n",
              "      <th></th>\n",
              "    </tr>\n",
              "  </thead>\n",
              "  <tbody>\n",
              "    <tr>\n",
              "      <th>1940-10-31</th>\n",
              "      <td>80.0</td>\n",
              "      <td>31</td>\n",
              "    </tr>\n",
              "    <tr>\n",
              "      <th>1940-11-30</th>\n",
              "      <td>0.0</td>\n",
              "      <td>0</td>\n",
              "    </tr>\n",
              "    <tr>\n",
              "      <th>1940-12-31</th>\n",
              "      <td>0.0</td>\n",
              "      <td>0</td>\n",
              "    </tr>\n",
              "    <tr>\n",
              "      <th>1941-01-31</th>\n",
              "      <td>0.0</td>\n",
              "      <td>19</td>\n",
              "    </tr>\n",
              "    <tr>\n",
              "      <th>1941-02-28</th>\n",
              "      <td>20.0</td>\n",
              "      <td>28</td>\n",
              "    </tr>\n",
              "    <tr>\n",
              "      <th>...</th>\n",
              "      <td>...</td>\n",
              "      <td>...</td>\n",
              "    </tr>\n",
              "    <tr>\n",
              "      <th>2020-08-31</th>\n",
              "      <td>140.6</td>\n",
              "      <td>31</td>\n",
              "    </tr>\n",
              "    <tr>\n",
              "      <th>2020-09-30</th>\n",
              "      <td>147.9</td>\n",
              "      <td>30</td>\n",
              "    </tr>\n",
              "    <tr>\n",
              "      <th>2020-10-31</th>\n",
              "      <td>167.7</td>\n",
              "      <td>31</td>\n",
              "    </tr>\n",
              "    <tr>\n",
              "      <th>2020-11-30</th>\n",
              "      <td>170.5</td>\n",
              "      <td>30</td>\n",
              "    </tr>\n",
              "    <tr>\n",
              "      <th>2020-12-31</th>\n",
              "      <td>130.3</td>\n",
              "      <td>31</td>\n",
              "    </tr>\n",
              "  </tbody>\n",
              "</table>\n",
              "<p>963 rows × 2 columns</p>\n",
              "</div>"
            ],
            "text/plain": [
              "            Valor  Cuenta\n",
              "Fecha                    \n",
              "1940-10-31   80.0      31\n",
              "1940-11-30    0.0       0\n",
              "1940-12-31    0.0       0\n",
              "1941-01-31    0.0      19\n",
              "1941-02-28   20.0      28\n",
              "...           ...     ...\n",
              "2020-08-31  140.6      31\n",
              "2020-09-30  147.9      30\n",
              "2020-10-31  167.7      31\n",
              "2020-11-30  170.5      30\n",
              "2020-12-31  130.3      31\n",
              "\n",
              "[963 rows x 2 columns]"
            ]
          },
          "metadata": {},
          "execution_count": 3
        }
      ]
    },
    {
      "cell_type": "code",
      "metadata": {
        "colab": {
          "base_uri": "https://localhost:8080/",
          "height": 535
        },
        "id": "XJerFTYQUDaS",
        "outputId": "4d76a2e2-f383-415b-992d-7cd7c3b38eef"
      },
      "source": [
        "#Serie de tiempo diaria\n",
        "\n",
        "#SerieDiaria = pd.DataFrame(data=Datos[Datos['Fechas'].isin(pd.date_range('1940-01-01', '2020-12-31'))])\n",
        "\n",
        "plt.rcParams[\"figure.figsize\"]=(10, 5)\n",
        "fig, ax = plt.subplots()\n",
        " \n",
        "ax.set_ylabel('Precipitación [mm]', fontsize = 14)\n",
        "#ax.set_title('Serie de precipitación diaria', fontsize = 15)\n",
        "ax.tick_params(axis = 'x', which = 'major', labelsize = 14, width = 1.0, length = 5)\n",
        "ax.tick_params(axis = 'y', which = 'major', labelsize = 14,width = 1.0, length = 5)\n",
        "stemlines= ax.stem(Datos.index,Datos['Valor'],markerfmt=' ',basefmt=\" \")\n",
        "plt.setp(stemlines, 'linewidth', 1.8, color='green')\n",
        "rojo= pd.DataFrame()\n",
        "rojo['mm'] = Datos['Valor']\n",
        "lista= range(1,len(Datos)+1)\n",
        "rojo['DOY'] = lista\n",
        "rojo['mm'][rojo['mm']>0]=None\n",
        "rojo['mm'][rojo['mm']==0]=0\n",
        "ax.set_xlim([datetime.date(1936, 1, 1), datetime.date(2025, 12, 31)])\n",
        "ax.set_ylim([-10,200])\n",
        "ax.scatter(Datos.index,rojo['mm'], marker=\".\", color='red', s=2)"
      ],
      "execution_count": null,
      "outputs": [
        {
          "output_type": "stream",
          "name": "stderr",
          "text": [
            "/usr/local/lib/python3.7/dist-packages/ipykernel_launcher.py:12: UserWarning: In Matplotlib 3.3 individual lines on a stem plot will be added as a LineCollection instead of individual lines. This significantly improves the performance of a stem plot. To remove this warning and switch to the new behaviour, set the \"use_line_collection\" keyword argument to True.\n",
            "  if sys.path[0] == '':\n",
            "/usr/local/lib/python3.7/dist-packages/ipykernel_launcher.py:18: SettingWithCopyWarning: \n",
            "A value is trying to be set on a copy of a slice from a DataFrame\n",
            "\n",
            "See the caveats in the documentation: https://pandas.pydata.org/pandas-docs/stable/user_guide/indexing.html#returning-a-view-versus-a-copy\n",
            "/usr/local/lib/python3.7/dist-packages/ipykernel_launcher.py:19: SettingWithCopyWarning: \n",
            "A value is trying to be set on a copy of a slice from a DataFrame\n",
            "\n",
            "See the caveats in the documentation: https://pandas.pydata.org/pandas-docs/stable/user_guide/indexing.html#returning-a-view-versus-a-copy\n"
          ]
        },
        {
          "output_type": "execute_result",
          "data": {
            "text/plain": [
              "<matplotlib.collections.PathCollection at 0x7f1af574a090>"
            ]
          },
          "metadata": {},
          "execution_count": 4
        },
        {
          "output_type": "display_data",
          "data": {
            "image/png": "[encoded data removed]",
            "text/plain": [
              "<Figure size 720x360 with 1 Axes>"
            ]
          },
          "metadata": {
            "needs_background": "light"
          }
        }
      ]
    },
    {
      "cell_type": "code",
      "metadata": {
        "colab": {
          "base_uri": "https://localhost:8080/",
          "height": 446
        },
        "id": "dVgIf9K_IH0x",
        "outputId": "ae550e38-a166-478d-ae23-7882ae980905"
      },
      "source": [
        "SerieMensual=Mensual.loc[((Mensual.index.days_in_month-Mensual.Cuenta)<5)]\n",
        "SerieMensual"
      ],
      "execution_count": null,
      "outputs": [
        {
          "output_type": "execute_result",
          "data": {
            "text/html": [
              "<div>\n",
              "<style scoped>\n",
              "    .dataframe tbody tr th:only-of-type {\n",
              "        vertical-align: middle;\n",
              "    }\n",
              "\n",
              "    .dataframe tbody tr th {\n",
              "        vertical-align: top;\n",
              "    }\n",
              "\n",
              "    .dataframe thead th {\n",
              "        text-align: right;\n",
              "    }\n",
              "</style>\n",
              "<table border=\"1\" class=\"dataframe\">\n",
              "  <thead>\n",
              "    <tr style=\"text-align: right;\">\n",
              "      <th></th>\n",
              "      <th>Valor</th>\n",
              "      <th>Cuenta</th>\n",
              "    </tr>\n",
              "    <tr>\n",
              "      <th>Fecha</th>\n",
              "      <th></th>\n",
              "      <th></th>\n",
              "    </tr>\n",
              "  </thead>\n",
              "  <tbody>\n",
              "    <tr>\n",
              "      <th>1940-10-31</th>\n",
              "      <td>80.0</td>\n",
              "      <td>31</td>\n",
              "    </tr>\n",
              "    <tr>\n",
              "      <th>1941-02-28</th>\n",
              "      <td>20.0</td>\n",
              "      <td>28</td>\n",
              "    </tr>\n",
              "    <tr>\n",
              "      <th>1941-03-31</th>\n",
              "      <td>10.0</td>\n",
              "      <td>31</td>\n",
              "    </tr>\n",
              "    <tr>\n",
              "      <th>1941-06-30</th>\n",
              "      <td>88.0</td>\n",
              "      <td>30</td>\n",
              "    </tr>\n",
              "    <tr>\n",
              "      <th>1941-07-31</th>\n",
              "      <td>122.0</td>\n",
              "      <td>31</td>\n",
              "    </tr>\n",
              "    <tr>\n",
              "      <th>...</th>\n",
              "      <td>...</td>\n",
              "      <td>...</td>\n",
              "    </tr>\n",
              "    <tr>\n",
              "      <th>2020-08-31</th>\n",
              "      <td>140.6</td>\n",
              "      <td>31</td>\n",
              "    </tr>\n",
              "    <tr>\n",
              "      <th>2020-09-30</th>\n",
              "      <td>147.9</td>\n",
              "      <td>30</td>\n",
              "    </tr>\n",
              "    <tr>\n",
              "      <th>2020-10-31</th>\n",
              "      <td>167.7</td>\n",
              "      <td>31</td>\n",
              "    </tr>\n",
              "    <tr>\n",
              "      <th>2020-11-30</th>\n",
              "      <td>170.5</td>\n",
              "      <td>30</td>\n",
              "    </tr>\n",
              "    <tr>\n",
              "      <th>2020-12-31</th>\n",
              "      <td>130.3</td>\n",
              "      <td>31</td>\n",
              "    </tr>\n",
              "  </tbody>\n",
              "</table>\n",
              "<p>471 rows × 2 columns</p>\n",
              "</div>"
            ],
            "text/plain": [
              "            Valor  Cuenta\n",
              "Fecha                    \n",
              "1940-10-31   80.0      31\n",
              "1941-02-28   20.0      28\n",
              "1941-03-31   10.0      31\n",
              "1941-06-30   88.0      30\n",
              "1941-07-31  122.0      31\n",
              "...           ...     ...\n",
              "2020-08-31  140.6      31\n",
              "2020-09-30  147.9      30\n",
              "2020-10-31  167.7      31\n",
              "2020-11-30  170.5      30\n",
              "2020-12-31  130.3      31\n",
              "\n",
              "[471 rows x 2 columns]"
            ]
          },
          "metadata": {},
          "execution_count": 5
        }
      ]
    },
    {
      "cell_type": "code",
      "metadata": {
        "colab": {
          "base_uri": "https://localhost:8080/",
          "height": 568
        },
        "id": "7wsa0nYRH9Tz",
        "outputId": "f3398650-d69e-422a-f9b7-b1449cd8429a"
      },
      "source": [
        "#Serie de tiempo mensual\n",
        "\n",
        "plt.rcParams[\"figure.figsize\"]=(10, 5)\n",
        "fig, ax = plt.subplots()\n",
        " \n",
        "ax.set_ylabel('Precipitación [mm]', fontsize = 14)\n",
        "ax.tick_params(axis = 'x', which = 'major', labelsize = 14, width = 1.0, length = 5)\n",
        "ax.tick_params(axis = 'y', which = 'major', labelsize = 14,width = 1.0, length = 5)\n",
        "stemlines= ax.stem(SerieMensual.index,SerieMensual['Valor'],markerfmt=' ',basefmt=\" \")\n",
        "plt.setp(stemlines, 'linewidth', 1.5, color='green')\n",
        "rojo= pd.DataFrame()\n",
        "rojo['mm'] = SerieMensual['Valor']\n",
        "lista= range(1,len(SerieMensual)+1)\n",
        "rojo['DOY'] = lista\n",
        "rojo['mm'][rojo['mm']>0]=None\n",
        "rojo['mm'][rojo['mm']==0]=0\n",
        "ax.set_xlim([datetime.date(1936, 1, 1), datetime.date(2025, 12, 31)])\n",
        "ax.set_ylim([-10,800])\n",
        "ax.scatter(SerieMensual.index,rojo['mm'], marker=\".\", color='red', s=2)"
      ],
      "execution_count": null,
      "outputs": [
        {
          "output_type": "stream",
          "name": "stderr",
          "text": [
            "/usr/local/lib/python3.7/dist-packages/ipykernel_launcher.py:9: UserWarning: In Matplotlib 3.3 individual lines on a stem plot will be added as a LineCollection instead of individual lines. This significantly improves the performance of a stem plot. To remove this warning and switch to the new behaviour, set the \"use_line_collection\" keyword argument to True.\n",
            "  if __name__ == '__main__':\n",
            "/usr/local/lib/python3.7/dist-packages/ipykernel_launcher.py:15: SettingWithCopyWarning: \n",
            "A value is trying to be set on a copy of a slice from a DataFrame\n",
            "\n",
            "See the caveats in the documentation: https://pandas.pydata.org/pandas-docs/stable/user_guide/indexing.html#returning-a-view-versus-a-copy\n",
            "  from ipykernel import kernelapp as app\n",
            "/usr/local/lib/python3.7/dist-packages/ipykernel_launcher.py:16: SettingWithCopyWarning: \n",
            "A value is trying to be set on a copy of a slice from a DataFrame\n",
            "\n",
            "See the caveats in the documentation: https://pandas.pydata.org/pandas-docs/stable/user_guide/indexing.html#returning-a-view-versus-a-copy\n",
            "  app.launch_new_instance()\n"
          ]
        },
        {
          "output_type": "execute_result",
          "data": {
            "text/plain": [
              "<matplotlib.collections.PathCollection at 0x7f1af579b050>"
            ]
          },
          "metadata": {},
          "execution_count": 6
        },
        {
          "output_type": "display_data",
          "data": {
            "image/png": "[encoded data removed]",
            "text/plain": [
              "<Figure size 720x360 with 1 Axes>"
            ]
          },
          "metadata": {
            "needs_background": "light"
          }
        }
      ]
    },
    {
      "cell_type": "code",
      "metadata": {
        "colab": {
          "base_uri": "https://localhost:8080/",
          "height": 446
        },
        "id": "uavk7JKgQCV2",
        "outputId": "25c64450-3bdd-4ff6-b800-81bb472b6971"
      },
      "source": [
        "Datos = pd.read_csv(io.StringIO(uploaded['excel.csv.csv'].decode('utf-8')))\n",
        "Datos['Fecha'] = pd.to_datetime(Datos.Fecha)\n",
        "Datos.set_index('Fecha',inplace=True)\n",
        "Datosaño=Datos[\"Valor\"]\n",
        "Prec=Datosaño.resample(rule='Y').sum()\n",
        "Cuenta=Datosaño.resample(rule='Y').count()\n",
        "Anual=pd.DataFrame(data=Prec)\n",
        "Anual['Cuenta']=Cuenta\n",
        "Anual"
      ],
      "execution_count": null,
      "outputs": [
        {
          "output_type": "execute_result",
          "data": {
            "text/html": [
              "<div>\n",
              "<style scoped>\n",
              "    .dataframe tbody tr th:only-of-type {\n",
              "        vertical-align: middle;\n",
              "    }\n",
              "\n",
              "    .dataframe tbody tr th {\n",
              "        vertical-align: top;\n",
              "    }\n",
              "\n",
              "    .dataframe thead th {\n",
              "        text-align: right;\n",
              "    }\n",
              "</style>\n",
              "<table border=\"1\" class=\"dataframe\">\n",
              "  <thead>\n",
              "    <tr style=\"text-align: right;\">\n",
              "      <th></th>\n",
              "      <th>Valor</th>\n",
              "      <th>Cuenta</th>\n",
              "    </tr>\n",
              "    <tr>\n",
              "      <th>Fecha</th>\n",
              "      <th></th>\n",
              "      <th></th>\n",
              "    </tr>\n",
              "  </thead>\n",
              "  <tbody>\n",
              "    <tr>\n",
              "      <th>1940-12-31</th>\n",
              "      <td>80.0</td>\n",
              "      <td>31</td>\n",
              "    </tr>\n",
              "    <tr>\n",
              "      <th>1941-12-31</th>\n",
              "      <td>604.0</td>\n",
              "      <td>252</td>\n",
              "    </tr>\n",
              "    <tr>\n",
              "      <th>1942-12-31</th>\n",
              "      <td>700.0</td>\n",
              "      <td>214</td>\n",
              "    </tr>\n",
              "    <tr>\n",
              "      <th>1943-12-31</th>\n",
              "      <td>414.8</td>\n",
              "      <td>243</td>\n",
              "    </tr>\n",
              "    <tr>\n",
              "      <th>1944-12-31</th>\n",
              "      <td>0.0</td>\n",
              "      <td>14</td>\n",
              "    </tr>\n",
              "    <tr>\n",
              "      <th>...</th>\n",
              "      <td>...</td>\n",
              "      <td>...</td>\n",
              "    </tr>\n",
              "    <tr>\n",
              "      <th>2016-12-31</th>\n",
              "      <td>1978.2</td>\n",
              "      <td>366</td>\n",
              "    </tr>\n",
              "    <tr>\n",
              "      <th>2017-12-31</th>\n",
              "      <td>1600.2</td>\n",
              "      <td>365</td>\n",
              "    </tr>\n",
              "    <tr>\n",
              "      <th>2018-12-31</th>\n",
              "      <td>1506.7</td>\n",
              "      <td>363</td>\n",
              "    </tr>\n",
              "    <tr>\n",
              "      <th>2019-12-31</th>\n",
              "      <td>965.3</td>\n",
              "      <td>348</td>\n",
              "    </tr>\n",
              "    <tr>\n",
              "      <th>2020-12-31</th>\n",
              "      <td>1441.8</td>\n",
              "      <td>366</td>\n",
              "    </tr>\n",
              "  </tbody>\n",
              "</table>\n",
              "<p>81 rows × 2 columns</p>\n",
              "</div>"
            ],
            "text/plain": [
              "             Valor  Cuenta\n",
              "Fecha                     \n",
              "1940-12-31    80.0      31\n",
              "1941-12-31   604.0     252\n",
              "1942-12-31   700.0     214\n",
              "1943-12-31   414.8     243\n",
              "1944-12-31     0.0      14\n",
              "...            ...     ...\n",
              "2016-12-31  1978.2     366\n",
              "2017-12-31  1600.2     365\n",
              "2018-12-31  1506.7     363\n",
              "2019-12-31   965.3     348\n",
              "2020-12-31  1441.8     366\n",
              "\n",
              "[81 rows x 2 columns]"
            ]
          },
          "metadata": {},
          "execution_count": 7
        }
      ]
    },
    {
      "cell_type": "code",
      "metadata": {
        "colab": {
          "base_uri": "https://localhost:8080/",
          "height": 479
        },
        "id": "O8auYAfeQ_YB",
        "outputId": "3b3c15aa-823b-4d9b-a152-c2ce8e0a5f0a"
      },
      "source": [
        "SerieAnual=Anual.loc[((365-Anual.Cuenta)<5)]\n",
        "SerieAnual"
      ],
      "execution_count": null,
      "outputs": [
        {
          "output_type": "execute_result",
          "data": {
            "text/html": [
              "<div>\n",
              "<style scoped>\n",
              "    .dataframe tbody tr th:only-of-type {\n",
              "        vertical-align: middle;\n",
              "    }\n",
              "\n",
              "    .dataframe tbody tr th {\n",
              "        vertical-align: top;\n",
              "    }\n",
              "\n",
              "    .dataframe thead th {\n",
              "        text-align: right;\n",
              "    }\n",
              "</style>\n",
              "<table border=\"1\" class=\"dataframe\">\n",
              "  <thead>\n",
              "    <tr style=\"text-align: right;\">\n",
              "      <th></th>\n",
              "      <th>Valor</th>\n",
              "      <th>Cuenta</th>\n",
              "    </tr>\n",
              "    <tr>\n",
              "      <th>Fecha</th>\n",
              "      <th></th>\n",
              "      <th></th>\n",
              "    </tr>\n",
              "  </thead>\n",
              "  <tbody>\n",
              "    <tr>\n",
              "      <th>1975-12-31</th>\n",
              "      <td>1615.5</td>\n",
              "      <td>365</td>\n",
              "    </tr>\n",
              "    <tr>\n",
              "      <th>1976-12-31</th>\n",
              "      <td>961.3</td>\n",
              "      <td>365</td>\n",
              "    </tr>\n",
              "    <tr>\n",
              "      <th>1977-12-31</th>\n",
              "      <td>1304.6</td>\n",
              "      <td>365</td>\n",
              "    </tr>\n",
              "    <tr>\n",
              "      <th>1992-12-31</th>\n",
              "      <td>1214.9</td>\n",
              "      <td>364</td>\n",
              "    </tr>\n",
              "    <tr>\n",
              "      <th>1995-12-31</th>\n",
              "      <td>1660.0</td>\n",
              "      <td>361</td>\n",
              "    </tr>\n",
              "    <tr>\n",
              "      <th>2000-12-31</th>\n",
              "      <td>1264.8</td>\n",
              "      <td>365</td>\n",
              "    </tr>\n",
              "    <tr>\n",
              "      <th>2007-12-31</th>\n",
              "      <td>1567.6</td>\n",
              "      <td>364</td>\n",
              "    </tr>\n",
              "    <tr>\n",
              "      <th>2011-12-31</th>\n",
              "      <td>1962.0</td>\n",
              "      <td>363</td>\n",
              "    </tr>\n",
              "    <tr>\n",
              "      <th>2014-12-31</th>\n",
              "      <td>1382.5</td>\n",
              "      <td>364</td>\n",
              "    </tr>\n",
              "    <tr>\n",
              "      <th>2016-12-31</th>\n",
              "      <td>1978.2</td>\n",
              "      <td>366</td>\n",
              "    </tr>\n",
              "    <tr>\n",
              "      <th>2017-12-31</th>\n",
              "      <td>1600.2</td>\n",
              "      <td>365</td>\n",
              "    </tr>\n",
              "    <tr>\n",
              "      <th>2018-12-31</th>\n",
              "      <td>1506.7</td>\n",
              "      <td>363</td>\n",
              "    </tr>\n",
              "    <tr>\n",
              "      <th>2020-12-31</th>\n",
              "      <td>1441.8</td>\n",
              "      <td>366</td>\n",
              "    </tr>\n",
              "  </tbody>\n",
              "</table>\n",
              "</div>"
            ],
            "text/plain": [
              "             Valor  Cuenta\n",
              "Fecha                     \n",
              "1975-12-31  1615.5     365\n",
              "1976-12-31   961.3     365\n",
              "1977-12-31  1304.6     365\n",
              "1992-12-31  1214.9     364\n",
              "1995-12-31  1660.0     361\n",
              "2000-12-31  1264.8     365\n",
              "2007-12-31  1567.6     364\n",
              "2011-12-31  1962.0     363\n",
              "2014-12-31  1382.5     364\n",
              "2016-12-31  1978.2     366\n",
              "2017-12-31  1600.2     365\n",
              "2018-12-31  1506.7     363\n",
              "2020-12-31  1441.8     366"
            ]
          },
          "metadata": {},
          "execution_count": 8
        }
      ]
    },
    {
      "cell_type": "code",
      "metadata": {
        "colab": {
          "base_uri": "https://localhost:8080/",
          "height": 568
        },
        "id": "-DT71xYvS6J7",
        "outputId": "6d2e2486-b283-414d-eb63-bcc7d95976cb"
      },
      "source": [
        "#Serie de tiempo anual\n",
        "\n",
        "plt.rcParams[\"figure.figsize\"]=(10, 5)\n",
        "fig, ax = plt.subplots()\n",
        " \n",
        "ax.set_ylabel('Precipitación [mm]', fontsize = 14)\n",
        "ax.tick_params(axis = 'x', which = 'major', labelsize = 14, width = 1.0, length = 5)\n",
        "ax.tick_params(axis = 'y', which = 'major', labelsize = 14,width = 1.0, length = 5)\n",
        "stemlines= ax.stem(SerieAnual.index,SerieAnual['Valor'],markerfmt=' ',basefmt=\" \")\n",
        "plt.setp(stemlines, 'linewidth', 4.5, color='green')\n",
        "rojo= pd.DataFrame()\n",
        "rojo['mm'] = SerieAnual['Valor']\n",
        "lista= range(1,len(SerieAnual)+1)\n",
        "rojo['DOY'] = lista\n",
        "rojo['mm'][rojo['mm']>0]=None\n",
        "rojo['mm'][rojo['mm']==0]=0\n",
        "ax.set_xlim([datetime.date(1936, 1, 1), datetime.date(2025, 12, 31)])\n",
        "ax.set_ylim([-10,3000])\n",
        "#ax.scatter(SerieAnual.index,rojo['mm'], marker=\".\", color='red', s=2)"
      ],
      "execution_count": null,
      "outputs": [
        {
          "output_type": "stream",
          "name": "stderr",
          "text": [
            "/usr/local/lib/python3.7/dist-packages/ipykernel_launcher.py:9: UserWarning: In Matplotlib 3.3 individual lines on a stem plot will be added as a LineCollection instead of individual lines. This significantly improves the performance of a stem plot. To remove this warning and switch to the new behaviour, set the \"use_line_collection\" keyword argument to True.\n",
            "  if __name__ == '__main__':\n",
            "/usr/local/lib/python3.7/dist-packages/ipykernel_launcher.py:15: SettingWithCopyWarning: \n",
            "A value is trying to be set on a copy of a slice from a DataFrame\n",
            "\n",
            "See the caveats in the documentation: https://pandas.pydata.org/pandas-docs/stable/user_guide/indexing.html#returning-a-view-versus-a-copy\n",
            "  from ipykernel import kernelapp as app\n",
            "/usr/local/lib/python3.7/dist-packages/ipykernel_launcher.py:16: SettingWithCopyWarning: \n",
            "A value is trying to be set on a copy of a slice from a DataFrame\n",
            "\n",
            "See the caveats in the documentation: https://pandas.pydata.org/pandas-docs/stable/user_guide/indexing.html#returning-a-view-versus-a-copy\n",
            "  app.launch_new_instance()\n"
          ]
        },
        {
          "output_type": "execute_result",
          "data": {
            "text/plain": [
              "(-10.0, 3000.0)"
            ]
          },
          "metadata": {},
          "execution_count": 9
        },
        {
          "output_type": "display_data",
          "data": {
            "image/png": "[encoded data removed]",
            "text/plain": [
              "<Figure size 720x360 with 1 Axes>"
            ]
          },
          "metadata": {
            "needs_background": "light"
          }
        }
      ]
    },
    {
      "cell_type": "code",
      "metadata": {
        "id": "yJowvlSszU2q"
      },
      "source": [
        "#Tabla para ver los datos organizados por año y crear luego una columna con los datos promedio\n",
        "\n",
        "Datos = pd.read_csv(io.StringIO(uploaded['excel.csv.csv'].decode('utf-8')))\n",
        "Datos['Fecha'] = pd.to_datetime(Datos['Fecha'])\n",
        "Datos['DOY'] = Datos['Fecha'].dt.dayofyear\n",
        "Datos['Año'] = Datos['Fecha'].dt.year\n",
        "\n",
        "Datosprom = pd.pivot_table(Datos, index = 'DOY', columns = 'Año', values = 'Valor')\n",
        "Datosprom = Datosprom[:-1]\n",
        "Años=list(Datosprom)"
      ],
      "execution_count": null,
      "outputs": []
    },
    {
      "cell_type": "code",
      "metadata": {
        "colab": {
          "base_uri": "https://localhost:8080/",
          "height": 421
        },
        "id": "HrUhiu6fzauL",
        "outputId": "9f7e2700-aff2-4cd6-fa61-4d9e33b10742"
      },
      "source": [
        "#host: eje 1 (lluvia diaria)\n",
        "#par1: eje 2 (lluvia diaria acumulada)\n",
        "fig, host = plt.subplots()\n",
        "par1 = host.twinx()\n",
        "host.set_ylabel(\"Precipitación [mm]\",fontsize = 14)\n",
        "par1.set_ylabel(\"Precipitación acumulada [mm]\",fontsize = 14)\n",
        "#Otra manera de poner los años si tengo años faltantes\n",
        "Datosprom = Datosprom[Años]\n",
        "Datosprom['Prom'] = Datosprom.mean(axis = 1)\n",
        "Datosprom['PAcum'] = Datosprom['Prom'].cumsum()\n",
        "plt.xticks([1,31,59,90,120,151,181,212,243,273,304,334,365])\n",
        "lista= range(1,366)\n",
        "y=list(lista)\n",
        "plt.rcParams[\"figure.figsize\"]=(10,5)\n",
        "markerline, stemlines, baseline= host.stem(y, Datosprom['Prom'],label = \"Serie promedio\",markerfmt=' ',basefmt=\" \")\n",
        "plt.setp(stemlines, 'linewidth', 1.8, color='green')\n",
        "par1.plot(y, Datosprom['PAcum'],color='blue')\n",
        "#host.set_title('Estacionalidad: Curva de masa', fontsize = 15)\n",
        "par1.tick_params(direction='in',axis = 'y', which = 'major',labelsize = 14,width = 1.0, length = 7)\n",
        "par1.yaxis.set_minor_locator(AutoMinorLocator(2)) \n",
        "par1.tick_params(direction='in',which = 'minor',width = 1.0, length = 3.5)\n",
        "host.tick_params(direction='in',axis = 'y', which = 'major',labelsize = 14,width = 1.0, length = 7)\n",
        "host.yaxis.set_minor_locator(AutoMinorLocator(2)) \n",
        "host.tick_params(direction='in',which = 'minor',width = 1.0, length = 3.5)\n",
        "host.tick_params(direction='in',axis = 'x', which = 'major',labelsize = 14,width = 1.0, length = 7)\n",
        "host.xaxis.set_ticks_position('both') \n",
        "fig.tight_layout()\n",
        "#Para descargar la gráfica en formato png:  \n",
        "#plt.savefig('Estacionalidad 1.png', bbox_inches = 'tight')\n",
        "#files.download('Estacionalidad 1.png')"
      ],
      "execution_count": null,
      "outputs": [
        {
          "output_type": "stream",
          "name": "stderr",
          "text": [
            "/usr/local/lib/python3.7/dist-packages/ipykernel_launcher.py:15: UserWarning: In Matplotlib 3.3 individual lines on a stem plot will be added as a LineCollection instead of individual lines. This significantly improves the performance of a stem plot. To remove this warning and switch to the new behaviour, set the \"use_line_collection\" keyword argument to True.\n",
            "  from ipykernel import kernelapp as app\n"
          ]
        },
        {
          "output_type": "display_data",
          "data": {
            "image/png": "[encoded data removed]",
            "text/plain": [
              "<Figure size 720x360 with 2 Axes>"
            ]
          },
          "metadata": {
            "needs_background": "light"
          }
        }
      ]
    },
    {
      "cell_type": "code",
      "metadata": {
        "id": "amiCtSYC3Pg9"
      },
      "source": [
        "#Esta parte crea una lista para cada mes y guarda todas las sumas de los meses (:31 quiere decir los primeros 31 valores de cada año, osea de enero). Es sólo una manera de hacerlo y puede ser más intuitivo para entender que se suman ciertos días de cada año para diferenciar por mes\n",
        "\n",
        "Ene=np.array(SerieMensual[(SerieMensual['Valor'].index.month==1)]['Valor'])\n",
        "Feb=np.array(SerieMensual[(SerieMensual['Valor'].index.month==2)]['Valor'])\n",
        "Mar=np.array(SerieMensual[(SerieMensual['Valor'].index.month==3)]['Valor'])\n",
        "Abr=np.array(SerieMensual[(SerieMensual['Valor'].index.month==4)]['Valor'])\n",
        "May=np.array(SerieMensual[(SerieMensual['Valor'].index.month==5)]['Valor'])\n",
        "Jun=np.array(SerieMensual[(SerieMensual['Valor'].index.month==6)]['Valor'])\n",
        "Jul=np.array(SerieMensual[(SerieMensual['Valor'].index.month==7)]['Valor'])\n",
        "Ago=np.array(SerieMensual[(SerieMensual['Valor'].index.month==8)]['Valor'])\n",
        "Sep=np.array(SerieMensual[(SerieMensual['Valor'].index.month==9)]['Valor'])\n",
        "Oct=np.array(SerieMensual[(SerieMensual['Valor'].index.month==10)]['Valor'])\n",
        "Nov=np.array(SerieMensual[(SerieMensual['Valor'].index.month==11)]['Valor'])\n",
        "Dic=np.array(SerieMensual[(SerieMensual['Valor'].index.month==12)]['Valor'])\n",
        " \n",
        "#MesesSerieOriginal= np.array([Ene,Feb,Mar,Abr,May,Jun,Jul,Ago,Sep,Oct,Nov,Dic])\n",
        "  \n",
        "mins = np.array([min(Ene),min(Feb),min(Mar),min(Abr),min(May),min(Jun),min(Jul),min(Ago),min(Sep),min(Oct),min(Nov),min(Dic)])\n",
        "maxes = np.array([max(Ene),max(Feb),max(Mar),max(Abr),max(May),max(Jun),max(Jul),max(Ago),max(Sep),max(Oct),max(Nov),max(Dic)])\n",
        "means = np.array([mean(Ene),mean(Feb),mean(Mar),mean(Abr),mean(May),mean(Jun),mean(Jul),mean(Ago),mean(Sep),mean(Oct),mean(Nov),mean(Dic)])\n",
        "std = np.array([np.std(Ene),np.std(Feb),np.std(Mar),np.std(Abr),np.std(May),np.std(Jun),np.std(Jul),np.std(Ago),np.std(Sep),np.std(Oct),np.std(Nov),np.std(Dic)])\n",
        "per25s=np.array([np.percentile(Ene,25,axis=0),np.percentile(Feb,25,axis=0),np.percentile(Mar,25,axis=0),np.percentile(Abr,25,axis=0),np.percentile(May,25,axis=0),np.percentile(Jun,25,axis=0),np.percentile(Jul,25,axis=0),np.percentile(Ago,25,axis=0),np.percentile(Sep,25,axis=0),np.percentile(Oct,25,axis=0),np.percentile(Nov,25,axis=0),np.percentile(Dic,25,axis=0)])\n",
        "per75s=np.array([np.percentile(Ene,75,axis=0),np.percentile(Feb,75,axis=0),np.percentile(Mar,75,axis=0),np.percentile(Abr,75,axis=0),np.percentile(May,75,axis=0),np.percentile(Jun,75,axis=0),np.percentile(Jul,75,axis=0),np.percentile(Ago,75,axis=0),np.percentile(Sep,75,axis=0),np.percentile(Oct,75,axis=0),np.percentile(Nov,75,axis=0),np.percentile(Dic,75,axis=0)])"
      ],
      "execution_count": null,
      "outputs": []
    },
    {
      "cell_type": "code",
      "metadata": {
        "colab": {
          "base_uri": "https://localhost:8080/",
          "height": 447
        },
        "id": "agUPrX6qioc1",
        "outputId": "f20fd60c-edc1-4fab-aa78-17fd14c669a6"
      },
      "source": [
        "plt.rcParams[\"figure.figsize\"]=(10,6)\n",
        "fig, ax = plt.subplots()\n",
        "plt.errorbar(np.arange(1,13,1), means, [per25s,per75s],fmt='.k', ecolor='green', lw=3)\n",
        "plt.errorbar(np.arange(1,13,1), means, std, fmt='.k', lw=5, ecolor='black', fillstyle='full')\n",
        "plt.errorbar(np.arange(1,13,1), means, [means - mins, maxes - means],fmt='.k', ecolor='gray', lw=0.5)\n",
        "plt.errorbar(np.arange(1,13,1), means, [per25s,per75s],fmt='ok', ecolor='green', lw=1)\n",
        "plt.xlim(0, 13)\n",
        "plt.ylim(-50,700)\n",
        "plt.xticks([1,2,3,4,5,6,7,8,9,10,11,12],['Ene', 'Feb', 'Mar', 'Abr', 'May', 'Jun', 'Jul', 'Ago', 'Sep', 'Oct', 'Nov','Dic'])\n",
        "ax.set_ylabel('Precipitación [mm]', fontsize = 14)\n",
        "ax.tick_params(direction='in',axis = 'x', which = 'major', labelsize = 14, width = 1.0, length = 7)\n",
        "ax.tick_params(direction='in',axis = 'y', which = 'major', labelsize = 14,width = 1.0, length = 7)\n",
        "[per25s,per75s]"
      ],
      "execution_count": null,
      "outputs": [
        {
          "output_type": "execute_result",
          "data": {
            "text/plain": [
              "[array([  0.   ,   0.   ,   3.1  ,  38.5  , 110.9  , 102.4  , 104.6  ,\n",
              "        114.2  , 129.5  , 168.775,  80.9  ,  22.35 ]),\n",
              " array([  7.4  ,  23.625,  32.875, 128.2  , 211.7  , 194.9  , 201.55 ,\n",
              "        215.85 , 224.275, 262.725, 175.575,  79.45 ])]"
            ]
          },
          "metadata": {},
          "execution_count": 19
        },
        {
          "output_type": "display_data",
          "data": {
            "image/png": "[encoded data removed]",
            "text/plain": [
              "<Figure size 720x432 with 1 Axes>"
            ]
          },
          "metadata": {
            "needs_background": "light"
          }
        }
      ]
    },
    {
      "cell_type": "code",
      "metadata": {
        "colab": {
          "base_uri": "https://localhost:8080/",
          "height": 446
        },
        "id": "H_4Y0doThLmn",
        "outputId": "d463fbb5-3585-4927-82bd-0bdea5da739b"
      },
      "source": [
        "SerieMensual=Mensual.loc[((Mensual.index.days_in_month-Mensual.Cuenta)<5) & (Mensual.index.year>=1963)]\n",
        "SerieMensual"
      ],
      "execution_count": null,
      "outputs": [
        {
          "output_type": "execute_result",
          "data": {
            "text/html": [
              "<div>\n",
              "<style scoped>\n",
              "    .dataframe tbody tr th:only-of-type {\n",
              "        vertical-align: middle;\n",
              "    }\n",
              "\n",
              "    .dataframe tbody tr th {\n",
              "        vertical-align: top;\n",
              "    }\n",
              "\n",
              "    .dataframe thead th {\n",
              "        text-align: right;\n",
              "    }\n",
              "</style>\n",
              "<table border=\"1\" class=\"dataframe\">\n",
              "  <thead>\n",
              "    <tr style=\"text-align: right;\">\n",
              "      <th></th>\n",
              "      <th>Valor</th>\n",
              "      <th>Cuenta</th>\n",
              "    </tr>\n",
              "    <tr>\n",
              "      <th>Fecha</th>\n",
              "      <th></th>\n",
              "      <th></th>\n",
              "    </tr>\n",
              "  </thead>\n",
              "  <tbody>\n",
              "    <tr>\n",
              "      <th>1963-11-30</th>\n",
              "      <td>53.5</td>\n",
              "      <td>30</td>\n",
              "    </tr>\n",
              "    <tr>\n",
              "      <th>1963-12-31</th>\n",
              "      <td>37.9</td>\n",
              "      <td>31</td>\n",
              "    </tr>\n",
              "    <tr>\n",
              "      <th>1964-02-29</th>\n",
              "      <td>18.2</td>\n",
              "      <td>29</td>\n",
              "    </tr>\n",
              "    <tr>\n",
              "      <th>1964-03-31</th>\n",
              "      <td>3.2</td>\n",
              "      <td>31</td>\n",
              "    </tr>\n",
              "    <tr>\n",
              "      <th>1964-04-30</th>\n",
              "      <td>143.2</td>\n",
              "      <td>30</td>\n",
              "    </tr>\n",
              "    <tr>\n",
              "      <th>...</th>\n",
              "      <td>...</td>\n",
              "      <td>...</td>\n",
              "    </tr>\n",
              "    <tr>\n",
              "      <th>2020-08-31</th>\n",
              "      <td>140.6</td>\n",
              "      <td>31</td>\n",
              "    </tr>\n",
              "    <tr>\n",
              "      <th>2020-09-30</th>\n",
              "      <td>147.9</td>\n",
              "      <td>30</td>\n",
              "    </tr>\n",
              "    <tr>\n",
              "      <th>2020-10-31</th>\n",
              "      <td>167.7</td>\n",
              "      <td>31</td>\n",
              "    </tr>\n",
              "    <tr>\n",
              "      <th>2020-11-30</th>\n",
              "      <td>170.5</td>\n",
              "      <td>30</td>\n",
              "    </tr>\n",
              "    <tr>\n",
              "      <th>2020-12-31</th>\n",
              "      <td>130.3</td>\n",
              "      <td>31</td>\n",
              "    </tr>\n",
              "  </tbody>\n",
              "</table>\n",
              "<p>438 rows × 2 columns</p>\n",
              "</div>"
            ],
            "text/plain": [
              "            Valor  Cuenta\n",
              "Fecha                    \n",
              "1963-11-30   53.5      30\n",
              "1963-12-31   37.9      31\n",
              "1964-02-29   18.2      29\n",
              "1964-03-31    3.2      31\n",
              "1964-04-30  143.2      30\n",
              "...           ...     ...\n",
              "2020-08-31  140.6      31\n",
              "2020-09-30  147.9      30\n",
              "2020-10-31  167.7      31\n",
              "2020-11-30  170.5      30\n",
              "2020-12-31  130.3      31\n",
              "\n",
              "[438 rows x 2 columns]"
            ]
          },
          "metadata": {},
          "execution_count": 20
        }
      ]
    },
    {
      "cell_type": "code",
      "metadata": {
        "id": "YTDAzuUT5IEC"
      },
      "source": [
        "EneNiña=[]; FebNiña=[]; MarNiña=[]; AbrNiña=[]; MayNiña=[]; JunNiña=[]; JulNiña=[]; AgoNiña=[]; SepNiña=[]; OctNiña=[]; NovNiña=[]; DicNiña=[]\n",
        "\n",
        "aux=0\n",
        "\n",
        "AñosEneroNiña=[1965,1974,1975,1976,1984,1985,1996,1999,2000,2001,2006,2008,2009,2011,2018]\n",
        "for j in AñosEneroNiña:\n",
        "  aux=list(SerieMensual[(SerieMensual['Valor'].index.month==1) & (SerieMensual['Valor'].index.year==j)]['Valor'])\n",
        "  EneNiña.append(aux)\n",
        "EneNiña=list(itertools.chain(*EneNiña))\n",
        "\n",
        "AñosFebreroNiña=[1974,1975,1976,1985,1996,1999,2000,2001,2006,2008,2009,2011,2018]\n",
        "for j in AñosFebreroNiña:\n",
        "  aux=list(SerieMensual[(SerieMensual['Valor'].index.month==2) & (SerieMensual['Valor'].index.year==j)]['Valor'])\n",
        "  FebNiña.append(aux)\n",
        "FebNiña=list(itertools.chain(*FebNiña))\n",
        "\n",
        "AñosMarzoNiña=[1974,1975,1976,1985,1996,1999,2000,2006,2008,2009,2011,2018]\n",
        "for j in AñosMarzoNiña:\n",
        "  aux=list(SerieMensual[(SerieMensual['Valor'].index.month==3) & (SerieMensual['Valor'].index.year==j)]['Valor'])\n",
        "  MarNiña.append(aux)\n",
        "MarNiña=list(itertools.chain(*MarNiña))\n",
        "\n",
        "AñosAbrilNiña=[1974,1975,1976,1985,1999,2000,2008,2011,2018]\n",
        "for j in AñosAbrilNiña:\n",
        "  aux=list(SerieMensual[(SerieMensual['Valor'].index.month==4) & (SerieMensual['Valor'].index.year==j)]['Valor'])\n",
        "  AbrNiña.append(aux)\n",
        "AbrNiña=list(itertools.chain(*AbrNiña))\n",
        "\n",
        "AñosMayoNiña=[1964,1974,1975,1985,1988,1999,2000,2008,2011]\n",
        "for j in AñosMayoNiña:\n",
        "  aux=list(SerieMensual[(SerieMensual['Valor'].index.month==5) & (SerieMensual['Valor'].index.year==j)]['Valor'])\n",
        "  MayNiña.append(aux)\n",
        "MayNiña=list(itertools.chain(*MayNiña))\n",
        "\n",
        "AñosJunioNiña=[1964,1974,1975,1985,1988,1999,2000,2007,2008,2010]\n",
        "for j in AñosJunioNiña:\n",
        "  aux=list(SerieMensual[(SerieMensual['Valor'].index.month==6) & (SerieMensual['Valor'].index.year==j)]['Valor'])\n",
        "  JunNiña.append(aux)\n",
        "JunNiña=list(itertools.chain(*JunNiña))\n",
        "\n",
        "AñosJulioNiña=[1964,1974,1975,1985,1988,1999,2000,2007,2010,2011]\n",
        "for j in AñosJulioNiña:\n",
        "  aux=list(SerieMensual[(SerieMensual['Valor'].index.month==7) & (SerieMensual['Valor'].index.year==j)]['Valor'])\n",
        "  JulNiña.append(aux)\n",
        "JulNiña=list(itertools.chain(*JulNiña))\n",
        "\n",
        "AñosAgostoNiña=[1964,1975,1985,1988,1995,1999,2000,2007,2010,2011,2016,2020]\n",
        "for j in AñosAgostoNiña:\n",
        "  aux=list(SerieMensual[(SerieMensual['Valor'].index.month==8) & (SerieMensual['Valor'].index.year==j)]['Valor'])\n",
        "  AgoNiña.append(aux)\n",
        "AgoNiña=list(itertools.chain(*AgoNiña))\n",
        "\n",
        "AñosSeptiembreNiña=[1964,1975,1983,1988,1995,1999,2000,2007,2010,2011,2016,2020]\n",
        "for j in AñosSeptiembreNiña:\n",
        "  aux=list(SerieMensual[(SerieMensual['Valor'].index.month==9) & (SerieMensual['Valor'].index.year==j)]['Valor'])\n",
        "  SepNiña.append(aux)\n",
        "SepNiña=list(itertools.chain(*SepNiña))\n",
        "\n",
        "AñosOctubreNiña=[1964,1974,1975,1983,1984,1988,1995,1999,2000,2007,2010,2011,2016,2017,2020]\n",
        "for j in AñosOctubreNiña:\n",
        "  aux=list(SerieMensual[(SerieMensual['Valor'].index.month==10) & (SerieMensual['Valor'].index.year==j)]['Valor'])\n",
        "  OctNiña.append(aux)\n",
        "OctNiña=list(itertools.chain(*OctNiña))\n",
        "\n",
        "AñosNoviembreNiña=[1964,1974,1975,1983,1984,1988,1995,1999,2000,2005,2007,2008,2010,2011,2016,2017,2020]\n",
        "for j in AñosNoviembreNiña:\n",
        "  aux=list(SerieMensual[(SerieMensual['Valor'].index.month==11) & (SerieMensual['Valor'].index.year==j)]['Valor'])\n",
        "  NovNiña.append(aux)\n",
        "NovNiña=list(itertools.chain(*NovNiña))\n",
        "  \n",
        "AñosDiciembreNiña=[1964,1974,1975,1983,1984,1988,1995,1999,2000,2005,2007,2008,2010,2011,2016,2017,2020]\n",
        "for j in AñosDiciembreNiña:\n",
        "  aux=list(SerieMensual[(SerieMensual['Valor'].index.month==12) & (SerieMensual['Valor'].index.year==j)]['Valor'])\n",
        "  DicNiña.append(aux)\n",
        "DicNiña=list(itertools.chain(*DicNiña))\n",
        "\n",
        "Niña=[EneNiña,FebNiña,MarNiña,AbrNiña,MayNiña,JunNiña,JulNiña,AgoNiña,SepNiña,OctNiña,NovNiña,DicNiña]\n",
        "MeanNiña=[mean(EneNiña),mean(FebNiña),mean(MarNiña),mean(AbrNiña),mean(MayNiña),mean(JunNiña),mean(JulNiña),mean(AgoNiña),mean(SepNiña),mean(OctNiña),mean(NovNiña),mean(DicNiña)]\n",
        " \n",
        "#Evento El Niño: Se identifican los meses de los años que tienen color rojo. Se tendrá entonces una lista con los enero, febrero, marzo, abril… de los años donde ocurrió el evento. A cada mes se le coloca el dato de precipitación mensual correspondiente.\n",
        " \n",
        "EneNiño=[]; FebNiño=[]; MarNiño=[]; AbrNiño=[]; MayNiño=[]; JunNiño=[]; JulNiño=[]; AgoNiño=[]; SepNiño=[]; OctNiño=[]; NovNiño=[]; DicNiño=[]\n",
        "\n",
        "AñosEneroNiño=[1964,1966,1977,1978,1980,1983,1987,1988,1992,1995,2003,2005,2007,2010,2015,2016,2019]\n",
        "for j in AñosEneroNiño:\n",
        "  aux=list(SerieMensual[(SerieMensual['Valor'].index.month==1) & (SerieMensual['Valor'].index.year==j)]['Valor'])\n",
        "  EneNiño.append(aux)\n",
        "EneNiño=list(itertools.chain(*EneNiño))\n",
        "\n",
        "AñosFebreroNiño=[1964,1966,1977,1980,1983,1987,1988,1992,1995,2003,2005,2010,2015,2016,2019]\n",
        "for j in AñosFebreroNiño:\n",
        "  aux=list(SerieMensual[(SerieMensual['Valor'].index.month==2) & (SerieMensual['Valor'].index.year==j)]['Valor'])\n",
        "  FebNiño.append(aux)\n",
        "FebNiño=list(itertools.chain(*FebNiño))\n",
        "  \n",
        "AñosMarzoNiño=[1966,1983,1987,1992,1995,2010,2015,2016,2019]\n",
        "for j in AñosMarzoNiño:\n",
        "  aux=list(SerieMensual[(SerieMensual['Valor'].index.month==3) & (SerieMensual['Valor'].index.year==j)]['Valor'])\n",
        "  MarNiño.append(aux)\n",
        "MarNiño=list(itertools.chain(*MarNiño))\n",
        "  \n",
        "AñosAbrilNiño=[1966,1982,1983,1987,1992,2015,2016,2019]\n",
        "for j in AñosAbrilNiño:\n",
        "  aux=list(SerieMensual[(SerieMensual['Valor'].index.month==4) & (SerieMensual['Valor'].index.year==j)]['Valor'])\n",
        "  AbrNiño.append(aux)\n",
        "AbrNiño=list(itertools.chain(*AbrNiño))\n",
        "\n",
        "AñosMayoNiño=[1965,1982,1983,1987,1991,1992,1997,2015,2019]\n",
        "for j in AñosMayoNiño:\n",
        "  aux=list(SerieMensual[(SerieMensual['Valor'].index.month==5) & (SerieMensual['Valor'].index.year==j)]['Valor'])\n",
        "  MayNiño.append(aux)\n",
        "MayNiño=list(itertools.chain(*MayNiño))\n",
        "\n",
        "AñosJunioNiño=[1963,1965,1982,1983,1987,1991,1992,1997,2015,2019]\n",
        "for j in AñosJunioNiño:\n",
        "  aux=list(SerieMensual[(SerieMensual['Valor'].index.month==6) & (SerieMensual['Valor'].index.year==j)]['Valor'])\n",
        "  JunNiño.append(aux)\n",
        "JunNiño=list(itertools.chain(*JunNiño))\n",
        "\n",
        "AñosJulioNiño=[1963,1965,1982,1987,1991,1997,2004,2009,2015]\n",
        "for j in AñosJulioNiño:\n",
        "  aux=list(SerieMensual[(SerieMensual['Valor'].index.month==7) & (SerieMensual['Valor'].index.year==j)]['Valor'])\n",
        "  JulNiño.append(aux)\n",
        "JulNiño=list(itertools.chain(*JulNiño))\n",
        "\n",
        "AñosAgostoNiño=[1963,1965,1982,1987,1991,1997,2004,2009,2015]\n",
        "for j in AñosAgostoNiño:\n",
        "  aux=list(SerieMensual[(SerieMensual['Valor'].index.month==8) & (SerieMensual['Valor'].index.year==j)]['Valor'])\n",
        "  AgoNiño.append(aux)\n",
        "AgoNiño=list(itertools.chain(*AgoNiño))\n",
        "\n",
        "AñosSeptiembreNiño=[1963,1965,1976,1977,1982,1986,1987,1991,1994,1997,2004,2006,2009,2015,2018]\n",
        "for j in AñosSeptiembreNiño:\n",
        "  aux=list(SerieMensual[(SerieMensual['Valor'].index.month==9) & (SerieMensual['Valor'].index.year==j)]['Valor'])\n",
        "  SepNiño.append(aux)\n",
        "SepNiño=list(itertools.chain(*SepNiño))\n",
        "\n",
        "AñosOctubreNiño=[1963,1965,1968,1976,1977,1979,1982,1986,1987,1991,1994,1997,2004,2006,2009,2014,2015,2018]\n",
        "for j in AñosOctubreNiño:\n",
        "  aux=list(SerieMensual[(SerieMensual['Valor'].index.month==10) & (SerieMensual['Valor'].index.year==j)]['Valor'])\n",
        "  OctNiño.append(aux)\n",
        "OctNiño=list(itertools.chain(*OctNiño))\n",
        "\n",
        "AñosNoviembreNiño=[1963,1965,1968,1976,1977,1979,1982,1986,1987,1991,1994,1997,2004,2006,2009,2014,2015,2018]\n",
        "for j in AñosNoviembreNiño:\n",
        "  aux=list(SerieMensual[(SerieMensual['Valor'].index.month==11) & (SerieMensual['Valor'].index.year==j)]['Valor'])\n",
        "  NovNiño.append(aux)\n",
        "NovNiño=list(itertools.chain(*NovNiño))\n",
        "\n",
        "AñosDiciembreNiño=[1963,1965,1968,1976,1977,1979,1982,1986,1987,1991,1994,1997,2004,2006,2009,2014,2015,2018]\n",
        "for j in AñosDiciembreNiño:\n",
        "  aux=list(SerieMensual[(SerieMensual['Valor'].index.month==12) & (SerieMensual['Valor'].index.year==j)]['Valor'])\n",
        "  DicNiño.append(aux)\n",
        "DicNiño=list(itertools.chain(*DicNiño))\n",
        "\n",
        "Niño=[EneNiño,FebNiño,MarNiño,AbrNiño,MayNiño,JunNiño,JulNiño,AgoNiño,SepNiño,OctNiño,NovNiño,DicNiño]\n",
        "MeanNiño=[mean(EneNiño),mean(FebNiño),mean(MarNiño),mean(AbrNiño),mean(MayNiño),mean(JunNiño),mean(JulNiño),mean(AgoNiño),mean(SepNiño),mean(OctNiño),mean(NovNiño),mean(DicNiño)]\n",
        " \n",
        "#Evento Neutral: Se identifican los meses de los años que tienen color negro. Se tendrá entonces una lista con los enero, febrero, marzo, abril… de los años donde ocurrió el evento. A cada mes se le coloca el dato de precipitación mensual correspondiente.\n",
        " \n",
        "EneNeutral=[]; FebNeutral=[]; MarNeutral=[]; AbrNeutral=[]; MayNeutral=[]; JunNeutral=[]; JulNeutral=[]; AgoNeutral=[]; SepNeutral=[]; OctNeutral=[]; NovNeutral=[]; DicNeutral=[]\n",
        "AñosEneroNeutral=[1963,1967,1968,1979,1981,1982,1986,1990,1991,1993,1994,1997,2004,2013,2014,2017,2020]\n",
        "for j in AñosEneroNeutral:\n",
        "  aux=list(SerieMensual[(SerieMensual['Valor'].index.month==1) & (SerieMensual['Valor'].index.year==j)]['Valor'])\n",
        "  EneNeutral.append(aux)\n",
        "EneNeutral=list(itertools.chain(*EneNeutral))\n",
        "\n",
        "AñosFebreroNeutral=[1963,1965,1967,1968,1978,1979,1981,1982,1984,1986,1990,1991,1993,1994,1997,2004,2007,2013,2014,2017,2020]\n",
        "for j in AñosFebreroNeutral:\n",
        "  aux=list(SerieMensual[(SerieMensual['Valor'].index.month==2) & (SerieMensual['Valor'].index.year==j)]['Valor'])\n",
        "  FebNeutral.append(aux)\n",
        "FebNeutral=list(itertools.chain(*FebNeutral))\n",
        "\n",
        "AñosMarzoNeutral=[1963,1964,1965,1967,1968,1977,1978,1979,1980,1981,1982,1984,1986,1988,1990,1991,1993,1994,1997,2001,2003,2004,2005,2007,2013,2014,2017,2020]\n",
        "for j in AñosMarzoNeutral:\n",
        "  aux=list(SerieMensual[(SerieMensual['Valor'].index.month==3) & (SerieMensual['Valor'].index.year==j)]['Valor'])\n",
        "  MarNeutral.append(aux)\n",
        "MarNeutral=list(itertools.chain(*MarNeutral))\n",
        "\n",
        "AñosAbrilNeutral=[1963,1964,1965,1967,1968,1977,1978,1979,1980,1981,1984,1986,1988,1990,1991,1993,1994,1995,1996,1997,2001,2003,2004,2005,2006,2007,2009,2010,2013,2014,2017,2020]\n",
        "for j in AñosAbrilNeutral:\n",
        "  aux=list(SerieMensual[(SerieMensual['Valor'].index.month==4) & (SerieMensual['Valor'].index.year==j)]['Valor'])\n",
        "  AbrNeutral.append(aux)\n",
        "AbrNeutral=list(itertools.chain(*AbrNeutral))\n",
        "\n",
        "AñosMayoNeutral=[1963,1966,1967,1968,1976,1977,1978,1979,1980,1981,1984,1986,1990,1993,1994,1995,1996,2001,2003,2004,2005,2006,2007,2009,2010,2013,2014,2016,2017,2018,2020]\n",
        "for j in AñosMayoNeutral:\n",
        "  aux=list(SerieMensual[(SerieMensual['Valor'].index.month==5) & (SerieMensual['Valor'].index.year==j)]['Valor'])\n",
        "  MayNeutral.append(aux)\n",
        "MayNeutral=list(itertools.chain(*MayNeutral))\n",
        "\n",
        "AñosJunioNeutral=[1966,1967,1968,1976,1977,1978,1979,1980,1981,1984,1986,1990,1993,1994,1995,1996,2001,2003,2004,2005,2006,2009,2011,2013,2014,2016,2017,2018,2020]\n",
        "for j in AñosJunioNeutral:\n",
        "  aux=list(SerieMensual[(SerieMensual['Valor'].index.month==6) & (SerieMensual['Valor'].index.year==j)]['Valor'])\n",
        "  JunNeutral.append(aux)\n",
        "JunNeutral=list(itertools.chain(*JunNeutral))\n",
        "  \n",
        "AñosJulioNeutral=[1966,1967,1968,1976,1977,1978,1979,1980,1981,1983,1984,1986,1990,1992,1993,1994,1995,1996,2001,2003,2005,2006,2008,2013,2014,2016,2017,2018,2019,2020]\n",
        "for j in AñosJulioNeutral:\n",
        "  aux=list(SerieMensual[(SerieMensual['Valor'].index.month==7) & (SerieMensual['Valor'].index.year==j)]['Valor'])\n",
        "  JulNeutral.append(aux)\n",
        "JulNeutral=list(itertools.chain(*JulNeutral))\n",
        "\n",
        "AñosAgostoNeutral=[1966,1967,1968,1974,1976,1977,1978,1979,1980,1981,1983,1984,1986,1990,1992,1993,1994,1996,2001,2003,2005,2006,2008,2013,2014,2017,2018,2019]\n",
        "for j in AñosAgostoNeutral:\n",
        "  aux=list(SerieMensual[(SerieMensual['Valor'].index.month==8) & (SerieMensual['Valor'].index.year==j)]['Valor'])\n",
        "  AgoNeutral.append(aux)\n",
        "AgoNeutral=list(itertools.chain(*AgoNeutral))\n",
        "\n",
        "AñosSeptiembreNeutral=[1966,1967,1968,1974,1978,1979,1980,1981,1984,1985,1990,1992,1993,1996,2001,2003,2005,2008,2013,2014,2017,2019]\n",
        "for j in AñosSeptiembreNeutral:\n",
        "  aux=list(SerieMensual[(SerieMensual['Valor'].index.month==9) & (SerieMensual['Valor'].index.year==j)]['Valor'])\n",
        "  SepNeutral.append(aux)\n",
        "SepNeutral=list(itertools.chain(*SepNeutral))\n",
        "\n",
        "AñosOctubreNeutral=[1966,1967,1978,1980,1981,1985,1990,1992,1993,1996,2001,2003,2005,2008,2013,2019]\n",
        "for j in AñosOctubreNeutral:\n",
        "  aux=list(SerieMensual[(SerieMensual['Valor'].index.month==10) & (SerieMensual['Valor'].index.year==j)]['Valor'])\n",
        "  OctNeutral.append(aux)\n",
        "OctNeutral=list(itertools.chain(*OctNeutral))\n",
        "\n",
        "AñosNoviembreNeutral=[1966,1967,1978,1980,1981,1985,1990,1992,1993,1996,2001,2003,2013,2019]\n",
        "for j in AñosNoviembreNeutral:\n",
        "  aux=list(SerieMensual[(SerieMensual['Valor'].index.month==11) & (SerieMensual['Valor'].index.year==j)]['Valor'])\n",
        "  NovNeutral.append(aux)\n",
        "NovNeutral=list(itertools.chain(*NovNeutral))\n",
        "\n",
        "AñosDiciembreNeutral=[1966,1967,1978,1980,1981,1985,1990,1992,1993,1996,2001,2003,2013,2019]\n",
        "for j in AñosDiciembreNeutral:\n",
        "  aux=list(SerieMensual[(SerieMensual['Valor'].index.month==12) & (SerieMensual['Valor'].index.year==j)]['Valor'])\n",
        "  DicNeutral.append(aux)\n",
        "DicNeutral=list(itertools.chain(*DicNeutral))\n",
        "\n",
        "Neutral=[EneNeutral,FebNeutral,MarNeutral,AbrNeutral,MayNeutral,JunNeutral,JulNeutral,AgoNeutral,SepNeutral,OctNeutral,NovNeutral,DicNeutral]\n",
        "MeanNeutral=[mean(EneNeutral),mean(FebNeutral),mean(MarNeutral),mean(AbrNeutral),mean(MayNeutral),mean(JunNeutral),mean(JulNeutral),mean(AgoNeutral),mean(SepNeutral),mean(OctNeutral),mean(NovNeutral),mean(DicNeutral)]\n"
      ],
      "execution_count": null,
      "outputs": []
    },
    {
      "cell_type": "code",
      "metadata": {
        "colab": {
          "base_uri": "https://localhost:8080/",
          "height": 504
        },
        "id": "SVP809_s28tS",
        "outputId": "70cce9f8-e537-4f1d-9542-3851d3cb35f9"
      },
      "source": [
        "plt.rcParams[\"figure.figsize\"]=(10, 6)\n",
        "fig, ax = plt.subplots()\n",
        "ax.set_xlim(0,13)\n",
        "ax.set_ylim(0,300)\n",
        "Dias=[1,2,3,4,5,6,7,8,9,10,11,12]\n",
        "\n",
        "#ax.set_ylabel('Precipitación [mm]', fontsize = 14)\n",
        "#ax.tick_params(axis = 'x', which = 'major', labelsize = 14, width = 1.0, length = 5)\n",
        "#ax.tick_params(axis = 'y', which = 'major', labelsize = 14,width = 1.0, length = 5)\n",
        "#stemlines= ax.stem(SerieAnual.index,SerieAnual['Valor'],markerfmt=' ',basefmt=\" \")\n",
        "#plt.setp(stemlines, 'linewidth', 4.5, color='green')\n",
        "\n",
        "plt.bar(Dias,[mean(Ene),mean(Feb),mean(Mar),mean(Abr),mean(May),mean(Jun),mean(Jul),mean(Ago),mean(Sep),mean(Oct),mean(Nov),mean(Dic)],color=\"darkseagreen\")\n",
        "#plt.setp(stemlines, 'linewidth', 20, color='darkseagreen')\n",
        "\n",
        "NiñoT=np.array(MeanNiño)\n",
        "NiñaT=np.array(MeanNiña)\n",
        "NeutralT=np.array(MeanNeutral)\n",
        "\n",
        "per25niño=np.array([np.percentile(EneNiño,25,axis=0),np.percentile(FebNiño,25,axis=0),np.percentile(MarNiño,25,axis=0),np.percentile(AbrNiño,25,axis=0),np.percentile(MayNiño,25,axis=0),np.percentile(JunNiño,25,axis=0),np.percentile(JulNiño,25,axis=0),np.percentile(AgoNiño,25,axis=0),np.percentile(SepNiño,25,axis=0),np.percentile(OctNiño,25,axis=0),np.percentile(NovNiño,25,axis=0),np.percentile(DicNiño,25,axis=0)])\n",
        "per75niño=np.array([np.percentile(EneNiño,75,axis=0),np.percentile(FebNiño,75,axis=0),np.percentile(MarNiño,75,axis=0),np.percentile(AbrNiño,75,axis=0),np.percentile(MayNiño,75,axis=0),np.percentile(JunNiño,75,axis=0),np.percentile(JulNiño,75,axis=0),np.percentile(AgoNiño,75,axis=0),np.percentile(SepNiño,75,axis=0),np.percentile(OctNiño,75,axis=0),np.percentile(NovNiño,75,axis=0),np.percentile(DicNiño,75,axis=0)])\n",
        "\n",
        "per25niña=np.array([np.percentile(EneNiña,25,axis=0),np.percentile(FebNiña,25,axis=0),np.percentile(MarNiña,25,axis=0),np.percentile(AbrNiña,25,axis=0),np.percentile(MayNiña,25,axis=0),np.percentile(JunNiña,25,axis=0),np.percentile(JulNiña,25,axis=0),np.percentile(AgoNiña,25,axis=0),np.percentile(SepNiña,25,axis=0),np.percentile(OctNiña,25,axis=0),np.percentile(NovNiña,25,axis=0),np.percentile(DicNiña,25,axis=0)])\n",
        "per75niña=np.array([np.percentile(EneNiña,75,axis=0),np.percentile(FebNiña,75,axis=0),np.percentile(MarNiña,75,axis=0),np.percentile(AbrNiña,75,axis=0),np.percentile(MayNiña,75,axis=0),np.percentile(JunNiña,75,axis=0),np.percentile(JulNiña,75,axis=0),np.percentile(AgoNiña,75,axis=0),np.percentile(SepNiña,75,axis=0),np.percentile(OctNiña,75,axis=0),np.percentile(NovNiña,75,axis=0),np.percentile(DicNiña,75,axis=0)])\n",
        "\n",
        "per25neutral=np.array([np.percentile(EneNeutral,25,axis=0),np.percentile(FebNeutral,25,axis=0),np.percentile(MarNeutral,25,axis=0),np.percentile(AbrNeutral,25,axis=0),np.percentile(MayNeutral,25,axis=0),np.percentile(JunNeutral,25,axis=0),np.percentile(JulNeutral,25,axis=0),np.percentile(AgoNeutral,25,axis=0),np.percentile(SepNeutral,25,axis=0),np.percentile(OctNeutral,25,axis=0),np.percentile(NovNeutral,25,axis=0),np.percentile(DicNeutral,25,axis=0)])\n",
        "per75neutral=np.array([np.percentile(EneNeutral,75,axis=0),np.percentile(FebNeutral,75,axis=0),np.percentile(MarNeutral,75,axis=0),np.percentile(AbrNeutral,75,axis=0),np.percentile(MayNeutral,75,axis=0),np.percentile(JunNeutral,75,axis=0),np.percentile(JulNeutral,75,axis=0),np.percentile(AgoNeutral,75,axis=0),np.percentile(SepNeutral,75,axis=0),np.percentile(OctNeutral,75,axis=0),np.percentile(NovNeutral,75,axis=0),np.percentile(DicNeutral,75,axis=0)])\n",
        "\n",
        "#per25niña=np.percentile(NiñaT,25,axis=0)\n",
        "#per75niña=np.percentile(NiñaT,75,axis=0)\n",
        "#IQRniña=per75niña-per25niña\n",
        "#per25neutral=np.percentile(NeutralT,25,axis=0)\n",
        "#per75neutral=np.percentile(NeutralT,75,axis=0)\n",
        "#IQRneutral=per75neutral-per25neutral\n",
        "\n",
        "#trans1 = Affine2D().translate(-0.2, 0.0) + ax.transData\n",
        "#trans2 = Affine2D().translate(+0.2, 0.0) + ax.transData\n",
        "plt.errorbar(np.arange(1,13,1), MeanNiño, marker=\"o\", lw=2, ecolor='red',mfc=\"red\",c=\"red\")\n",
        "#plt.errorbar(np.arange(1,13,1),per25niño,per75niño,fmt='.k', ecolor='red', lw=2)\n",
        "plt.errorbar(np.arange(1,13,1), MeanNiña, marker=\"o\",lw=2, ecolor='blue',mfc=\"blue\",c=\"blue\")\n",
        "plt.errorbar(np.arange(1,13,1), MeanNeutral, marker=\"o\", lw=2, ecolor='black',mfc=\"black\",c=\"black\")\n",
        "\n",
        "#plt.boxplot(Niño, showfliers=False, showmeans = True, capprops=dict(color=\"red\"), whiskerprops=dict(color=\"red\"), boxprops=dict(color=\"red\"), medianprops = dict(color =\"red\"), meanprops = dict(marker = \"x\", markersize = 6, markeredgecolor = \"red\"))\n",
        "#plt.boxplot(Niña, showfliers=False, showmeans = True, capprops=dict(color=\"blue\"), whiskerprops=dict(color=\"blue\"), boxprops=dict(color=\"blue\"), medianprops = dict(color =\"blue\"), meanprops = dict(marker = \"x\", markersize = 6, markeredgecolor = \"blue\"))\n",
        "#plt.boxplot(means, whis = [0,100], showmeans = True, medianprops = dict(color = \"black\"), meanprops = dict(marker = \"x\", markersize = 6, markeredgecolor = \"green\"))\n",
        "plt.xticks([1,2,3,4,5,6,7,8,9,10,11,12],['Ene', 'Feb', 'Mar', 'Abr', 'May', 'Jun', 'Jul', 'Ago', 'Sep', 'Oct', 'Nov','Dic'])\n",
        "ax.yaxis.set_minor_locator(AutoMinorLocator(2)) \n",
        "ax.tick_params(direction='in',axis = 'x', which = 'major', labelsize = 14, width = 1.0, length = 7)\n",
        "ax.tick_params(direction='in',axis = 'y', which = 'major', labelsize = 14,width = 1.0, length = 7)\n",
        "ax.tick_params(direction='in',which = 'minor', width = 1.0, length = 3.5)\n",
        "ax.xaxis.set_ticks_position('both') \n",
        "ax.yaxis.set_ticks_position('both')\n",
        "\n",
        "Percentiles=pd.DataFrame(data=[per75niño-per25niño,per75niña-per25niña,per75neutral-per25neutral])\n",
        "Percentiles.columns=['E','F','M','A','M','J','J','A','S','O','N','D']\n",
        "Percentiles\n"
      ],
      "execution_count": null,
      "outputs": [
        {
          "output_type": "execute_result",
          "data": {
            "text/html": [
              "<div>\n",
              "<style scoped>\n",
              "    .dataframe tbody tr th:only-of-type {\n",
              "        vertical-align: middle;\n",
              "    }\n",
              "\n",
              "    .dataframe tbody tr th {\n",
              "        vertical-align: top;\n",
              "    }\n",
              "\n",
              "    .dataframe thead th {\n",
              "        text-align: right;\n",
              "    }\n",
              "</style>\n",
              "<table border=\"1\" class=\"dataframe\">\n",
              "  <thead>\n",
              "    <tr style=\"text-align: right;\">\n",
              "      <th></th>\n",
              "      <th>E</th>\n",
              "      <th>F</th>\n",
              "      <th>M</th>\n",
              "      <th>A</th>\n",
              "      <th>M</th>\n",
              "      <th>J</th>\n",
              "      <th>J</th>\n",
              "      <th>A</th>\n",
              "      <th>S</th>\n",
              "      <th>O</th>\n",
              "      <th>N</th>\n",
              "      <th>D</th>\n",
              "    </tr>\n",
              "  </thead>\n",
              "  <tbody>\n",
              "    <tr>\n",
              "      <th>0</th>\n",
              "      <td>11.600</td>\n",
              "      <td>7.300</td>\n",
              "      <td>17.875</td>\n",
              "      <td>103.275</td>\n",
              "      <td>62.00</td>\n",
              "      <td>45.200</td>\n",
              "      <td>43.075</td>\n",
              "      <td>42.300</td>\n",
              "      <td>133.8</td>\n",
              "      <td>136.625</td>\n",
              "      <td>84.500</td>\n",
              "      <td>57.35</td>\n",
              "    </tr>\n",
              "    <tr>\n",
              "      <th>1</th>\n",
              "      <td>12.375</td>\n",
              "      <td>34.225</td>\n",
              "      <td>28.150</td>\n",
              "      <td>102.175</td>\n",
              "      <td>86.05</td>\n",
              "      <td>83.975</td>\n",
              "      <td>42.925</td>\n",
              "      <td>82.450</td>\n",
              "      <td>53.0</td>\n",
              "      <td>86.075</td>\n",
              "      <td>84.100</td>\n",
              "      <td>31.50</td>\n",
              "    </tr>\n",
              "    <tr>\n",
              "      <th>2</th>\n",
              "      <td>2.250</td>\n",
              "      <td>33.900</td>\n",
              "      <td>26.500</td>\n",
              "      <td>50.600</td>\n",
              "      <td>113.85</td>\n",
              "      <td>69.700</td>\n",
              "      <td>106.300</td>\n",
              "      <td>108.525</td>\n",
              "      <td>77.6</td>\n",
              "      <td>48.875</td>\n",
              "      <td>55.225</td>\n",
              "      <td>65.85</td>\n",
              "    </tr>\n",
              "  </tbody>\n",
              "</table>\n",
              "</div>"
            ],
            "text/plain": [
              "        E       F       M        A  ...      S        O       N      D\n",
              "0  11.600   7.300  17.875  103.275  ...  133.8  136.625  84.500  57.35\n",
              "1  12.375  34.225  28.150  102.175  ...   53.0   86.075  84.100  31.50\n",
              "2   2.250  33.900  26.500   50.600  ...   77.6   48.875  55.225  65.85\n",
              "\n",
              "[3 rows x 12 columns]"
            ]
          },
          "metadata": {},
          "execution_count": 16
        },
        {
          "output_type": "display_data",
          "data": {
            "image/png": "[encoded data removed]",
            "text/plain": [
              "<Figure size 720x432 with 1 Axes>"
            ]
          },
          "metadata": {
            "needs_background": "light"
          }
        }
      ]
    }
  ]
}